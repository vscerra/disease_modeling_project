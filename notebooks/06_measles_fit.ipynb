{
 "cells": [
  {
   "cell_type": "markdown",
   "id": "e57f76ab",
   "metadata": {},
   "source": [
    "**Author: Veronica Scerra**  \n",
    "**Last Updated: 2025-10-22**\n",
    "\n",
    "**Purpose:**\n",
    "Explore a dataset in which the SIR/SEIR/basic compartmental models can fit the data well\n",
    "\n",
    "**Inputs & Dependencies:**\n",
    "- Code: `src/dataio/load_owid_covid.py`, `src/epimodels/sir.py`, `src/epimodels/seir_custom.py`, `src/epimodels/fitting.py`\n",
    "- Libraries: `numpy`, `matplotlib`, `pandas`  \n",
    "- Covid19 data pulled from OWID\n",
    "\n",
    "**Outputs:**\n",
    "- \n",
    "- \n",
    "\n",
    "**Context:**\n",
    "Fifth notebook in the **SIR Model Project**, serving as a means for expanding to include and incubation paramter (E) for better fit on a slice of real-world data. "
   ]
  }
 ],
 "metadata": {
  "language_info": {
   "name": "python"
  }
 },
 "nbformat": 4,
 "nbformat_minor": 5
}
