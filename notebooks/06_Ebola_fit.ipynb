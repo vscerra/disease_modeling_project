{
 "cells": [
  {
   "cell_type": "markdown",
   "id": "7251ff05",
   "metadata": {},
   "source": [
    "# Modeling of West African Ebola outbreak data using basic SIR and SEIR compartmental models"
   ]
  },
  {
   "cell_type": "markdown",
   "id": "e57f76ab",
   "metadata": {},
   "source": [
    "**Author: Veronica Scerra**  \n",
    "**Last Updated: 2025-10-24**\n",
    "\n",
    "**Purpose:**\n",
    "Explore a dataset in which the SIR/SEIR/basic compartmental models can fit the data well\n",
    "\n",
    "**Inputs & Dependencies:**\n",
    "- Code: `src/dataio/ebola.py`, `src/epimodels/sir.py`, `src/epimodels/seir_scipy_fit.py`, `src/epimodels/fitting.py`\n",
    "- Libraries: `numpy`, `matplotlib`, `pandas`  \n",
    "- Ebola data pulled from WHO/HDX"
   ]
  },
  {
   "cell_type": "markdown",
   "id": "5a799aff",
   "metadata": {},
   "source": [
    "### Import paths and dependencies"
   ]
  },
  {
   "cell_type": "code",
   "execution_count": 1,
   "id": "75b3ba10",
   "metadata": {},
   "outputs": [],
   "source": [
    "import sys, os, numpy as np, pandas as pd, matplotlib.pyplot as plt\n",
    "sys.path.append(os.path.abspath(os.path.join('..', 'src')))\n",
    "from pathlib import Path\n",
    "\n",
    "from dataio.ebola import (\n",
    "    EbolaPreprocessConfig,\n",
    "    load_and_clean_ebola,\n",
    "    list_available_indicators\n",
    ")\n",
    "\n",
    "%load_ext autoreload\n",
    "%autoreload 2\n",
    "\n"
   ]
  },
  {
   "cell_type": "code",
   "execution_count": null,
   "id": "b4559425",
   "metadata": {},
   "outputs": [
    {
     "name": "stdout",
     "output_type": "stream",
     "text": [
      "CWD:  c:\\Users\\vscerra\\Desktop\\DataScienceProjects\\disease_modeling_project\\notebooks\n",
      "Data path: c:\\Users\\vscerra\\Desktop\\DataScienceProjects\\disease_modeling_project\\data\\raw\\ebola_data_db_format.csv\n"
     ]
    }
   ],
   "source": [
    "PROJECT_ROOT = Path.cwd().parents[0]\n",
    "DATA_PATH = PROJECT_ROOT/ \"data\" / \"raw\" / \"ebola_data_db_format.csv\"\n",
    "SAVE_PATH = PROJECT_ROOT/ \"data\" / \"processed\" "
   ]
  },
  {
   "cell_type": "code",
   "execution_count": 3,
   "id": "50efd7c4",
   "metadata": {},
   "outputs": [
    {
     "data": {
      "text/html": [
       "<div>\n",
       "<style scoped>\n",
       "    .dataframe tbody tr th:only-of-type {\n",
       "        vertical-align: middle;\n",
       "    }\n",
       "\n",
       "    .dataframe tbody tr th {\n",
       "        vertical-align: top;\n",
       "    }\n",
       "\n",
       "    .dataframe thead th {\n",
       "        text-align: right;\n",
       "    }\n",
       "</style>\n",
       "<table border=\"1\" class=\"dataframe\">\n",
       "  <thead>\n",
       "    <tr style=\"text-align: right;\">\n",
       "      <th></th>\n",
       "      <th>date</th>\n",
       "      <th>country</th>\n",
       "      <th>indicator</th>\n",
       "      <th>cumulative_cases</th>\n",
       "      <th>new_cases</th>\n",
       "    </tr>\n",
       "  </thead>\n",
       "  <tbody>\n",
       "    <tr>\n",
       "      <th>0</th>\n",
       "      <td>2014-08-24</td>\n",
       "      <td>Sierra Leone</td>\n",
       "      <td>Cumulative number of confirmed Ebola cases</td>\n",
       "      <td>935.0</td>\n",
       "      <td>0</td>\n",
       "    </tr>\n",
       "    <tr>\n",
       "      <th>1</th>\n",
       "      <td>2014-08-31</td>\n",
       "      <td>Sierra Leone</td>\n",
       "      <td>Cumulative number of confirmed Ebola cases</td>\n",
       "      <td>1146.0</td>\n",
       "      <td>211</td>\n",
       "    </tr>\n",
       "    <tr>\n",
       "      <th>2</th>\n",
       "      <td>2014-09-07</td>\n",
       "      <td>Sierra Leone</td>\n",
       "      <td>Cumulative number of confirmed Ebola cases</td>\n",
       "      <td>1287.0</td>\n",
       "      <td>141</td>\n",
       "    </tr>\n",
       "    <tr>\n",
       "      <th>3</th>\n",
       "      <td>2014-09-14</td>\n",
       "      <td>Sierra Leone</td>\n",
       "      <td>Cumulative number of confirmed Ebola cases</td>\n",
       "      <td>1513.0</td>\n",
       "      <td>226</td>\n",
       "    </tr>\n",
       "    <tr>\n",
       "      <th>4</th>\n",
       "      <td>2014-09-21</td>\n",
       "      <td>Sierra Leone</td>\n",
       "      <td>Cumulative number of confirmed Ebola cases</td>\n",
       "      <td>1816.0</td>\n",
       "      <td>303</td>\n",
       "    </tr>\n",
       "  </tbody>\n",
       "</table>\n",
       "</div>"
      ],
      "text/plain": [
       "        date       country                                   indicator  \\\n",
       "0 2014-08-24  Sierra Leone  Cumulative number of confirmed Ebola cases   \n",
       "1 2014-08-31  Sierra Leone  Cumulative number of confirmed Ebola cases   \n",
       "2 2014-09-07  Sierra Leone  Cumulative number of confirmed Ebola cases   \n",
       "3 2014-09-14  Sierra Leone  Cumulative number of confirmed Ebola cases   \n",
       "4 2014-09-21  Sierra Leone  Cumulative number of confirmed Ebola cases   \n",
       "\n",
       "   cumulative_cases  new_cases  \n",
       "0             935.0          0  \n",
       "1            1146.0        211  \n",
       "2            1287.0        141  \n",
       "3            1513.0        226  \n",
       "4            1816.0        303  "
      ]
     },
     "execution_count": 3,
     "metadata": {},
     "output_type": "execute_result"
    }
   ],
   "source": [
    "cfg = EbolaPreprocessConfig(\n",
    "    country=\"Sierra Leone\",\n",
    "    case_definition=\"confirmed\",  # or \"confirmed_probable_suspected\"\n",
    "    resample=\"W\",                 # \"D\" for daily, None for native cadence\n",
    "    save_to=SAVE_PATH /\"ebola_sierra_leone_weekly.csv\"\n",
    ")\n",
    "\n",
    "ts = load_and_clean_ebola(DATA_PATH, cfg)\n",
    "ts.head()"
   ]
  },
  {
   "cell_type": "code",
   "execution_count": null,
   "id": "44042089",
   "metadata": {},
   "outputs": [],
   "source": []
  }
 ],
 "metadata": {
  "kernelspec": {
   "display_name": "my-env",
   "language": "python",
   "name": "python3"
  },
  "language_info": {
   "codemirror_mode": {
    "name": "ipython",
    "version": 3
   },
   "file_extension": ".py",
   "mimetype": "text/x-python",
   "name": "python",
   "nbconvert_exporter": "python",
   "pygments_lexer": "ipython3",
   "version": "3.12.0"
  }
 },
 "nbformat": 4,
 "nbformat_minor": 5
}
