{
 "cells": [
  {
   "cell_type": "markdown",
   "id": "7251ff05",
   "metadata": {},
   "source": [
    "# Modeling of West African Ebola outbreak data using basic SIR and SEIR compartmental models"
   ]
  },
  {
   "cell_type": "markdown",
   "id": "e57f76ab",
   "metadata": {},
   "source": [
    "**Author: Veronica Scerra**  \n",
    "**Last Updated: 2025-10-24**\n",
    "\n",
    "**Purpose:**\n",
    "Explore a dataset in which the SIR/SEIR/basic compartmental models can fit the data well\n",
    "\n",
    "**Inputs & Dependencies:**\n",
    "- Code: `src/dataio/ebola.py`, `src/epimodels/sir_scipy_fit.py`, `src/epimodels/seir_scipy_fit.py`, `src/epimodels/fitting/fitting.py`, `src/epimodels/utils/plotting.py`\n",
    "- Libraries: `numpy`, `matplotlib`, `pandas`  \n",
    "- Ebola data pulled from WHO/HDX"
   ]
  },
  {
   "cell_type": "markdown",
   "id": "5a799aff",
   "metadata": {},
   "source": [
    "### Import paths and dependencies"
   ]
  },
  {
   "cell_type": "code",
   "execution_count": 1,
   "id": "75b3ba10",
   "metadata": {},
   "outputs": [],
   "source": [
    "import sys, os, numpy as np, pandas as pd, matplotlib.pyplot as plt\n",
    "sys.path.append(os.path.abspath(os.path.join('..', 'src')))\n",
    "from pathlib import Path\n",
    "\n",
    "from dataio.ebola import (\n",
    "    EbolaPreprocessConfig,\n",
    "    load_and_clean_ebola,\n",
    "    list_available_indicators\n",
    ")\n",
    "\n",
    "import importlib\n",
    "from epimodels.fitting.fitting_scipy import fit_sir_to_cumulative, fit_seir_to_cumulative\n",
    "from epimodels.utils.plotting import plot_cumulative_fit\n",
    "import epimodels.fitting.fitting_scipy as cal; importlib.reload(cal)\n",
    "import epimodels.utils.plotting as viz; importlib.reload(viz)\n",
    "\n",
    "%load_ext autoreload\n",
    "%autoreload 2\n",
    "\n",
    "PROJECT_ROOT = Path.cwd().parents[0]\n",
    "DATA_PATH = PROJECT_ROOT/ \"data\" / \"raw\" / \"ebola_data_db_format.csv\"\n",
    "SAVE_PATH = PROJECT_ROOT/ \"data\" / \"processed\" "
   ]
  },
  {
   "cell_type": "code",
   "execution_count": 5,
   "id": "50efd7c4",
   "metadata": {},
   "outputs": [],
   "source": [
    "cfg = EbolaPreprocessConfig(\n",
    "    country=\"Sierra Leone\",\n",
    "    case_definition=\"confirmed\",  # or \"confirmed_probable_suspected\"\n",
    "    resample=\"W\",                 # \"D\" for daily, None for native cadence\n",
    "    save_to=SAVE_PATH /\"ebola_sierra_leone_weekly.csv\"\n",
    ")\n",
    "\n",
    "ts = load_and_clean_ebola(DATA_PATH, cfg)\n",
    "ts.head()\n",
    "\n",
    "# set country population (Sierra Leone ~ 6.3M around 2014-2015)\n",
    "N = 6.3e6\n",
    "df = ts.copy()\n",
    "dates = pd.to_datetime(df[\"date\"])"
   ]
  },
  {
   "cell_type": "markdown",
   "id": "44042089",
   "metadata": {},
   "source": [
    "### Fit SIR"
   ]
  },
  {
   "cell_type": "code",
   "execution_count": 6,
   "id": "f07a4a14",
   "metadata": {},
   "outputs": [
    {
     "ename": "KeyError",
     "evalue": "-1",
     "output_type": "error",
     "traceback": [
      "\u001b[1;31m---------------------------------------------------------------------------\u001b[0m",
      "\u001b[1;31mValueError\u001b[0m                                Traceback (most recent call last)",
      "File \u001b[1;32mc:\\Users\\vscerra\\.conda\\envs\\my-env\\Lib\\site-packages\\pandas\\core\\indexes\\range.py:414\u001b[0m, in \u001b[0;36mRangeIndex.get_loc\u001b[1;34m(self, key)\u001b[0m\n\u001b[0;32m    413\u001b[0m \u001b[38;5;28;01mtry\u001b[39;00m:\n\u001b[1;32m--> 414\u001b[0m     \u001b[38;5;28;01mreturn\u001b[39;00m \u001b[38;5;28;43mself\u001b[39;49m\u001b[38;5;241;43m.\u001b[39;49m\u001b[43m_range\u001b[49m\u001b[38;5;241;43m.\u001b[39;49m\u001b[43mindex\u001b[49m\u001b[43m(\u001b[49m\u001b[43mnew_key\u001b[49m\u001b[43m)\u001b[49m\n\u001b[0;32m    415\u001b[0m \u001b[38;5;28;01mexcept\u001b[39;00m \u001b[38;5;167;01mValueError\u001b[39;00m \u001b[38;5;28;01mas\u001b[39;00m err:\n",
      "\u001b[1;31mValueError\u001b[0m: -1 is not in range",
      "\nThe above exception was the direct cause of the following exception:\n",
      "\u001b[1;31mKeyError\u001b[0m                                  Traceback (most recent call last)",
      "Cell \u001b[1;32mIn[6], line 1\u001b[0m\n\u001b[1;32m----> 1\u001b[0m sir_fit \u001b[38;5;241m=\u001b[39m \u001b[43mcal\u001b[49m\u001b[38;5;241;43m.\u001b[39;49m\u001b[43mfit_sir_to_cumulative\u001b[49m\u001b[43m(\u001b[49m\u001b[43mdf\u001b[49m\u001b[43m,\u001b[49m\u001b[43m \u001b[49m\u001b[43mN\u001b[49m\u001b[43m,\u001b[49m\u001b[43m \u001b[49m\u001b[43mI0_guess\u001b[49m\u001b[38;5;241;43m=\u001b[39;49m\u001b[38;5;241;43m20\u001b[39;49m\u001b[43m,\u001b[49m\u001b[43m \u001b[49m\u001b[43mbeta_guess\u001b[49m\u001b[38;5;241;43m=\u001b[39;49m\u001b[38;5;241;43m0.25\u001b[39;49m\u001b[43m,\u001b[49m\u001b[43m \u001b[49m\u001b[43mgamma_guess\u001b[49m\u001b[38;5;241;43m=\u001b[39;49m\u001b[38;5;241;43m0.17\u001b[39;49m\u001b[43m,\u001b[49m\u001b[43m \u001b[49m\u001b[43mp_report_guess\u001b[49m\u001b[38;5;241;43m=\u001b[39;49m\u001b[38;5;241;43m0.8\u001b[39;49m\u001b[43m)\u001b[49m\n\u001b[0;32m      3\u001b[0m \u001b[38;5;28mprint\u001b[39m(\u001b[38;5;124mf\u001b[39m\u001b[38;5;124m\"\u001b[39m\u001b[38;5;124mSIR: R0 = \u001b[39m\u001b[38;5;132;01m{\u001b[39;00msir_fit\u001b[38;5;241m.\u001b[39mR0_basic\u001b[38;5;132;01m:\u001b[39;00m\u001b[38;5;124m.2f\u001b[39m\u001b[38;5;132;01m}\u001b[39;00m\u001b[38;5;124m, beta = \u001b[39m\u001b[38;5;132;01m{\u001b[39;00msir_fit\u001b[38;5;241m.\u001b[39mbeta\u001b[38;5;132;01m:\u001b[39;00m\u001b[38;5;124m.3f\u001b[39m\u001b[38;5;132;01m}\u001b[39;00m\u001b[38;5;124m, gamma = \u001b[39m\u001b[38;5;132;01m{\u001b[39;00msir_fit\u001b[38;5;241m.\u001b[39mgamma\u001b[38;5;132;01m:\u001b[39;00m\u001b[38;5;124m.3f\u001b[39m\u001b[38;5;132;01m}\u001b[39;00m\u001b[38;5;124m, p = \u001b[39m\u001b[38;5;132;01m{\u001b[39;00msir_fit\u001b[38;5;241m.\u001b[39mp_report\u001b[38;5;132;01m:\u001b[39;00m\u001b[38;5;124m.2f\u001b[39m\u001b[38;5;132;01m}\u001b[39;00m\u001b[38;5;124m, I0=\u001b[39m\u001b[38;5;132;01m{\u001b[39;00msir_fit\u001b[38;5;241m.\u001b[39mI0\u001b[38;5;132;01m:\u001b[39;00m\u001b[38;5;124m.1f\u001b[39m\u001b[38;5;132;01m}\u001b[39;00m\u001b[38;5;124m\"\u001b[39m)\n\u001b[0;32m      4\u001b[0m viz\u001b[38;5;241m.\u001b[39mplot_cumulative_fit(dates, df[\u001b[38;5;124m\"\u001b[39m\u001b[38;5;124mcumulative_cases\u001b[39m\u001b[38;5;124m\"\u001b[39m]\u001b[38;5;241m.\u001b[39mvalues, sir_fit\u001b[38;5;241m.\u001b[39mC_hat, \u001b[38;5;124m\"\u001b[39m\u001b[38;5;124mSIR fit - Sierra Leone\u001b[39m\u001b[38;5;124m\"\u001b[39m)\n",
      "File \u001b[1;32mc:\\Users\\vscerra\\Desktop\\DataScienceProjects\\disease_modeling_project\\src\\epimodels\\fitting\\fitting_scipy.py:70\u001b[0m, in \u001b[0;36mfit_sir_to_cumulative\u001b[1;34m(df, N, t_col, y_col, I0_guess, R0_guess, beta_guess, gamma_guess, p_report_guess)\u001b[0m\n\u001b[0;32m     67\u001b[0m     \u001b[38;5;28;01mreturn\u001b[39;00m pack(theta) \u001b[38;5;241m-\u001b[39m y_obs\n\u001b[0;32m     69\u001b[0m \u001b[38;5;66;03m# quick dry-run to catch shape/type issues early\u001b[39;00m\n\u001b[1;32m---> 70\u001b[0m _ \u001b[38;5;241m=\u001b[39m \u001b[43mpack\u001b[49m\u001b[43m(\u001b[49m\u001b[43mnp\u001b[49m\u001b[38;5;241;43m.\u001b[39;49m\u001b[43marray\u001b[49m\u001b[43m(\u001b[49m\u001b[43m[\u001b[49m\u001b[43mbeta_guess\u001b[49m\u001b[43m,\u001b[49m\u001b[43m \u001b[49m\u001b[43mgamma_guess\u001b[49m\u001b[43m,\u001b[49m\u001b[43m \u001b[49m\u001b[43mp_report_guess\u001b[49m\u001b[43m,\u001b[49m\u001b[43m \u001b[49m\u001b[43mI0_guess\u001b[49m\u001b[43m]\u001b[49m\u001b[43m,\u001b[49m\u001b[43m \u001b[49m\u001b[43mdtype\u001b[49m\u001b[38;5;241;43m=\u001b[39;49m\u001b[38;5;28;43mfloat\u001b[39;49m\u001b[43m)\u001b[49m\u001b[43m)\u001b[49m\n\u001b[0;32m     71\u001b[0m \u001b[38;5;28;01massert\u001b[39;00m _\u001b[38;5;241m.\u001b[39mndim \u001b[38;5;241m==\u001b[39m \u001b[38;5;241m1\u001b[39m \u001b[38;5;129;01mand\u001b[39;00m _\u001b[38;5;241m.\u001b[39mshape \u001b[38;5;241m==\u001b[39m y_obs\u001b[38;5;241m.\u001b[39mshape, \u001b[38;5;124mf\u001b[39m\u001b[38;5;124m\"\u001b[39m\u001b[38;5;124mResidual shape mismatch: \u001b[39m\u001b[38;5;132;01m{\u001b[39;00m_\u001b[38;5;241m.\u001b[39mshape\u001b[38;5;132;01m}\u001b[39;00m\u001b[38;5;124m vs \u001b[39m\u001b[38;5;132;01m{\u001b[39;00my_obs\u001b[38;5;241m.\u001b[39mshape\u001b[38;5;132;01m}\u001b[39;00m\u001b[38;5;124m\"\u001b[39m\n\u001b[0;32m     73\u001b[0m bounds \u001b[38;5;241m=\u001b[39m (np\u001b[38;5;241m.\u001b[39marray([\u001b[38;5;241m1e-6\u001b[39m, \u001b[38;5;241m1e-3\u001b[39m, \u001b[38;5;241m1e-3\u001b[39m, \u001b[38;5;241m1.0\u001b[39m], dtype\u001b[38;5;241m=\u001b[39m\u001b[38;5;28mfloat\u001b[39m),\n\u001b[0;32m     74\u001b[0m           np\u001b[38;5;241m.\u001b[39marray([\u001b[38;5;241m2.0\u001b[39m,   \u001b[38;5;241m1.0\u001b[39m,  \u001b[38;5;241m5.0\u001b[39m,  N\u001b[38;5;241m*\u001b[39m\u001b[38;5;241m1e-4\u001b[39m], dtype\u001b[38;5;241m=\u001b[39m\u001b[38;5;28mfloat\u001b[39m))\n",
      "File \u001b[1;32mc:\\Users\\vscerra\\Desktop\\DataScienceProjects\\disease_modeling_project\\src\\epimodels\\fitting\\fitting_scipy.py:62\u001b[0m, in \u001b[0;36mfit_sir_to_cumulative.<locals>.pack\u001b[1;34m(theta)\u001b[0m\n\u001b[0;32m     60\u001b[0m S0 \u001b[38;5;241m=\u001b[39m \u001b[38;5;28mfloat\u001b[39m(N) \u001b[38;5;241m-\u001b[39m I0 \u001b[38;5;241m-\u001b[39m \u001b[38;5;28mfloat\u001b[39m(R0_guess)\n\u001b[0;32m     61\u001b[0m y0 \u001b[38;5;241m=\u001b[39m (S0, I0, \u001b[38;5;28mfloat\u001b[39m(R0_guess), \u001b[38;5;241m0.0\u001b[39m)\n\u001b[1;32m---> 62\u001b[0m tt, Y \u001b[38;5;241m=\u001b[39m \u001b[43msimulate_sir\u001b[49m\u001b[43m(\u001b[49m\u001b[43mt\u001b[49m\u001b[43m,\u001b[49m\u001b[43m \u001b[49m\u001b[43my0\u001b[49m\u001b[43m,\u001b[49m\u001b[43m \u001b[49m\u001b[43mSIRParams\u001b[49m\u001b[43m(\u001b[49m\u001b[43mbeta\u001b[49m\u001b[43m,\u001b[49m\u001b[43m \u001b[49m\u001b[43mgamma\u001b[49m\u001b[43m,\u001b[49m\u001b[43m \u001b[49m\u001b[38;5;28;43mfloat\u001b[39;49m\u001b[43m(\u001b[49m\u001b[43mN\u001b[49m\u001b[43m)\u001b[49m\u001b[43m)\u001b[49m\u001b[43m)\u001b[49m\n\u001b[0;32m     63\u001b[0m C \u001b[38;5;241m=\u001b[39m np\u001b[38;5;241m.\u001b[39masarray(Y[\u001b[38;5;241m3\u001b[39m], dtype\u001b[38;5;241m=\u001b[39m\u001b[38;5;28mfloat\u001b[39m)\n\u001b[0;32m     64\u001b[0m \u001b[38;5;28;01mreturn\u001b[39;00m \u001b[38;5;28mfloat\u001b[39m(p_report) \u001b[38;5;241m*\u001b[39m C\n",
      "File \u001b[1;32mc:\\Users\\vscerra\\Desktop\\DataScienceProjects\\disease_modeling_project\\src\\epimodels\\sir_scipy_fit.py:46\u001b[0m, in \u001b[0;36msimulate_sir\u001b[1;34m(t_eval, y0, p)\u001b[0m\n\u001b[0;32m     45\u001b[0m \u001b[38;5;28;01mdef\u001b[39;00m \u001b[38;5;21msimulate_sir\u001b[39m(t_eval: Sequence[\u001b[38;5;28mfloat\u001b[39m], y0: Tuple[\u001b[38;5;28mfloat\u001b[39m, \u001b[38;5;28mfloat\u001b[39m, \u001b[38;5;28mfloat\u001b[39m, \u001b[38;5;28mfloat\u001b[39m], p: SIRParams):\n\u001b[1;32m---> 46\u001b[0m     t_span \u001b[38;5;241m=\u001b[39m (t_eval[\u001b[38;5;241m0\u001b[39m], \u001b[43mt_eval\u001b[49m\u001b[43m[\u001b[49m\u001b[38;5;241;43m-\u001b[39;49m\u001b[38;5;241;43m1\u001b[39;49m\u001b[43m]\u001b[49m)\n\u001b[0;32m     47\u001b[0m     sol \u001b[38;5;241m=\u001b[39m solve_ivp(\u001b[38;5;28;01mlambda\u001b[39;00m t, y: _rhs(t, y, p),\n\u001b[0;32m     48\u001b[0m                     t_span, y0, t_eval\u001b[38;5;241m=\u001b[39mnp\u001b[38;5;241m.\u001b[39masarray(t_eval), rtol\u001b[38;5;241m=\u001b[39m\u001b[38;5;241m1e-6\u001b[39m, atol\u001b[38;5;241m=\u001b[39m\u001b[38;5;241m1e-8\u001b[39m)\n\u001b[0;32m     49\u001b[0m     \u001b[38;5;28;01mreturn\u001b[39;00m sol\u001b[38;5;241m.\u001b[39mt, sol\u001b[38;5;241m.\u001b[39my\n",
      "File \u001b[1;32mc:\\Users\\vscerra\\.conda\\envs\\my-env\\Lib\\site-packages\\pandas\\core\\series.py:1040\u001b[0m, in \u001b[0;36mSeries.__getitem__\u001b[1;34m(self, key)\u001b[0m\n\u001b[0;32m   1037\u001b[0m     \u001b[38;5;28;01mreturn\u001b[39;00m \u001b[38;5;28mself\u001b[39m\u001b[38;5;241m.\u001b[39m_values[key]\n\u001b[0;32m   1039\u001b[0m \u001b[38;5;28;01melif\u001b[39;00m key_is_scalar:\n\u001b[1;32m-> 1040\u001b[0m     \u001b[38;5;28;01mreturn\u001b[39;00m \u001b[38;5;28;43mself\u001b[39;49m\u001b[38;5;241;43m.\u001b[39;49m\u001b[43m_get_value\u001b[49m\u001b[43m(\u001b[49m\u001b[43mkey\u001b[49m\u001b[43m)\u001b[49m\n\u001b[0;32m   1042\u001b[0m \u001b[38;5;66;03m# Convert generator to list before going through hashable part\u001b[39;00m\n\u001b[0;32m   1043\u001b[0m \u001b[38;5;66;03m# (We will iterate through the generator there to check for slices)\u001b[39;00m\n\u001b[0;32m   1044\u001b[0m \u001b[38;5;28;01mif\u001b[39;00m is_iterator(key):\n",
      "File \u001b[1;32mc:\\Users\\vscerra\\.conda\\envs\\my-env\\Lib\\site-packages\\pandas\\core\\series.py:1156\u001b[0m, in \u001b[0;36mSeries._get_value\u001b[1;34m(self, label, takeable)\u001b[0m\n\u001b[0;32m   1153\u001b[0m     \u001b[38;5;28;01mreturn\u001b[39;00m \u001b[38;5;28mself\u001b[39m\u001b[38;5;241m.\u001b[39m_values[label]\n\u001b[0;32m   1155\u001b[0m \u001b[38;5;66;03m# Similar to Index.get_value, but we do not fall back to positional\u001b[39;00m\n\u001b[1;32m-> 1156\u001b[0m loc \u001b[38;5;241m=\u001b[39m \u001b[38;5;28;43mself\u001b[39;49m\u001b[38;5;241;43m.\u001b[39;49m\u001b[43mindex\u001b[49m\u001b[38;5;241;43m.\u001b[39;49m\u001b[43mget_loc\u001b[49m\u001b[43m(\u001b[49m\u001b[43mlabel\u001b[49m\u001b[43m)\u001b[49m\n\u001b[0;32m   1158\u001b[0m \u001b[38;5;28;01mif\u001b[39;00m is_integer(loc):\n\u001b[0;32m   1159\u001b[0m     \u001b[38;5;28;01mreturn\u001b[39;00m \u001b[38;5;28mself\u001b[39m\u001b[38;5;241m.\u001b[39m_values[loc]\n",
      "File \u001b[1;32mc:\\Users\\vscerra\\.conda\\envs\\my-env\\Lib\\site-packages\\pandas\\core\\indexes\\range.py:416\u001b[0m, in \u001b[0;36mRangeIndex.get_loc\u001b[1;34m(self, key)\u001b[0m\n\u001b[0;32m    414\u001b[0m         \u001b[38;5;28;01mreturn\u001b[39;00m \u001b[38;5;28mself\u001b[39m\u001b[38;5;241m.\u001b[39m_range\u001b[38;5;241m.\u001b[39mindex(new_key)\n\u001b[0;32m    415\u001b[0m     \u001b[38;5;28;01mexcept\u001b[39;00m \u001b[38;5;167;01mValueError\u001b[39;00m \u001b[38;5;28;01mas\u001b[39;00m err:\n\u001b[1;32m--> 416\u001b[0m         \u001b[38;5;28;01mraise\u001b[39;00m \u001b[38;5;167;01mKeyError\u001b[39;00m(key) \u001b[38;5;28;01mfrom\u001b[39;00m \u001b[38;5;21;01merr\u001b[39;00m\n\u001b[0;32m    417\u001b[0m \u001b[38;5;28;01mif\u001b[39;00m \u001b[38;5;28misinstance\u001b[39m(key, Hashable):\n\u001b[0;32m    418\u001b[0m     \u001b[38;5;28;01mraise\u001b[39;00m \u001b[38;5;167;01mKeyError\u001b[39;00m(key)\n",
      "\u001b[1;31mKeyError\u001b[0m: -1"
     ]
    }
   ],
   "source": [
    "sir_fit = cal.fit_sir_to_cumulative(df, N, I0_guess=20, beta_guess=0.25, gamma_guess=0.17, p_report_guess=0.8)\n",
    "\n",
    "print(f\"SIR: R0 = {sir_fit.R0_basic:.2f}, beta = {sir_fit.beta:.3f}, gamma = {sir_fit.gamma:.3f}, p = {sir_fit.p_report:.2f}, I0={sir_fit.I0:.1f}\")\n",
    "viz.plot_cumulative_fit(dates, df[\"cumulative_cases\"].values, sir_fit.C_hat, \"SIR fit - Sierra Leone\")"
   ]
  },
  {
   "cell_type": "code",
   "execution_count": null,
   "id": "36097910",
   "metadata": {},
   "outputs": [],
   "source": []
  }
 ],
 "metadata": {
  "kernelspec": {
   "display_name": "my-env",
   "language": "python",
   "name": "python3"
  },
  "language_info": {
   "codemirror_mode": {
    "name": "ipython",
    "version": 3
   },
   "file_extension": ".py",
   "mimetype": "text/x-python",
   "name": "python",
   "nbconvert_exporter": "python",
   "pygments_lexer": "ipython3",
   "version": "3.12.0"
  }
 },
 "nbformat": 4,
 "nbformat_minor": 5
}
